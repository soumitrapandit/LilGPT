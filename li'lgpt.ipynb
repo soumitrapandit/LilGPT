{
 "cells": [
  {
   "cell_type": "code",
   "execution_count": 1,
   "metadata": {},
   "outputs": [],
   "source": [
    "import torch\n",
    "import torch.nn.functional as F"
   ]
  },
  {
   "cell_type": "code",
   "execution_count": 3,
   "metadata": {},
   "outputs": [
    {
     "name": "stdout",
     "output_type": "stream",
     "text": [
      "1115394\n"
     ]
    }
   ],
   "source": [
    "falstaff = open(\"input.txt\").read()\n",
    "print(len(falstaff))"
   ]
  },
  {
   "cell_type": "code",
   "execution_count": 11,
   "metadata": {},
   "outputs": [
    {
     "data": {
      "text/plain": [
       "65"
      ]
     },
     "execution_count": 11,
     "metadata": {},
     "output_type": "execute_result"
    }
   ],
   "source": [
    "# Create Datasets\n",
    "chars = set(\"\".join(falstaff))\n",
    "num_embeddings = len(chars)\n",
    "num_embeddings"
   ]
  },
  {
   "cell_type": "code",
   "execution_count": 14,
   "metadata": {},
   "outputs": [],
   "source": [
    "# Create Mapping Dicts\n",
    "itos = {i:s for i,s in enumerate(chars)}\n",
    "stoi = {s:i for i,s in itos.items()}"
   ]
  },
  {
   "cell_type": "code",
   "execution_count": 16,
   "metadata": {},
   "outputs": [
    {
     "name": "stdout",
     "output_type": "stream",
     "text": [
      "[62, 6, 5, 48, 44, 13, 6, 5, 48, 46, 0, 44, 49, 4, 6, 45, 44, 5, 48, 12, 5, 44, 21, 6, 43, 44, 45, 46, 0, 46, 5, 48, 44, 47, 46, 0, 44, 62, 0, 12, 63, 46, 27, 10]\n",
      "['d', 'o', 't', 'h', ' ', 'm', 'o', 't', 'h', 'e', 'r', ' ', 'k', 'n', 'o', 'w', ' ', 't', 'h', 'a', 't', ' ', 'y', 'o', 'u', ' ', 'w', 'e', 'r', 'e', 't', 'h', ' ', \"'\", 'e', 'r', ' ', 'd', 'r', 'a', 'p', 'e', 's', '?']\n"
     ]
    }
   ],
   "source": [
    "encode = lambda input: [stoi[char] for char in input]\n",
    "decode = lambda input: [itos[token] for token in input]\n",
    "\n",
    "#test:\n",
    "enc = (encode(\"doth mother know that you wereth 'er drapes?\"))\n",
    "dec = (decode(enc))\n",
    "\n",
    "print(enc)\n",
    "print(dec)"
   ]
  },
  {
   "cell_type": "code",
   "execution_count": 17,
   "metadata": {},
   "outputs": [
    {
     "data": {
      "text/plain": [
       "torch.Size([1115394])"
      ]
     },
     "execution_count": 17,
     "metadata": {},
     "output_type": "execute_result"
    }
   ],
   "source": [
    "# Creating Datasets\n",
    "data = torch.tensor(encode(falstaff))\n",
    "data.shape"
   ]
  },
  {
   "cell_type": "code",
   "execution_count": 20,
   "metadata": {},
   "outputs": [
    {
     "data": {
      "text/plain": [
       "1003854"
      ]
     },
     "execution_count": 20,
     "metadata": {},
     "output_type": "execute_result"
    }
   ],
   "source": [
    "# Test, Train splits\n",
    "train = int(0.9 * data.shape[0])\n",
    "train"
   ]
  },
  {
   "cell_type": "code",
   "execution_count": 22,
   "metadata": {},
   "outputs": [
    {
     "data": {
      "text/plain": [
       "torch.Size([1003854])"
      ]
     },
     "execution_count": 22,
     "metadata": {},
     "output_type": "execute_result"
    }
   ],
   "source": [
    "training_data = data[:train]\n",
    "training_data.shape"
   ]
  },
  {
   "cell_type": "code",
   "execution_count": 24,
   "metadata": {},
   "outputs": [
    {
     "data": {
      "text/plain": [
       "torch.Size([111540])"
      ]
     },
     "execution_count": 24,
     "metadata": {},
     "output_type": "execute_result"
    }
   ],
   "source": [
    "testing_data = data[train:]\n",
    "testing_data.shape"
   ]
  },
  {
   "cell_type": "code",
   "execution_count": null,
   "metadata": {},
   "outputs": [
    {
     "data": {
      "text/plain": [
       "tensor([950895, 854916, 390166,  ..., 870704, 222753, 923272])"
      ]
     },
     "execution_count": 27,
     "metadata": {},
     "output_type": "execute_result"
    }
   ],
   "source": [
    "# Data Loader:\n",
    "# The idea is to have random samplings from the data and then creating batches from it.\n",
    "batch_size = 4\n",
    "context_len = 8\n",
    "\n",
    "# This means that the transformer is going to process four \"streams\" of tokens, each upto 8 tokens long\n",
    "\n",
    "# I need arbitary starting points for data\n",
    "rand_idx = torch.randint(0,(training_data.shape[0] - (context_len)),(training_data.shape))\n",
    "rand_idx\n"
   ]
  },
  {
   "cell_type": "code",
   "execution_count": 36,
   "metadata": {},
   "outputs": [],
   "source": [
    "# Now, I need to batch these\n",
    "# Actually, I can be smarter here:\n",
    "\n",
    "def data_loader(data,batch_size,context_len):\n",
    "    rand_idx = torch.randint(0,(data.shape[0] - context_len),(batch_size,))\n",
    "    X = torch.stack([data[idx:idx+context_len] for idx in rand_idx])\n",
    "    Y = torch.stack([data[idx+1:idx+context_len+1] for idx in rand_idx])\n",
    "    return X,Y"
   ]
  },
  {
   "cell_type": "code",
   "execution_count": 37,
   "metadata": {},
   "outputs": [
    {
     "data": {
      "text/plain": [
       "(tensor([[46,  0, 27, 44, 28,  6,  0, 44],\n",
       "         [12, 27, 44,  1,  0, 43, 46, 31],\n",
       "         [44,  5, 48, 17, 27, 44, 62, 17],\n",
       "         [ 4, 44, 46, 17, 36, 48,  5,  3]]),\n",
       " tensor([[ 0, 27, 44, 28,  6,  0, 44,  5],\n",
       "         [27, 44,  1,  0, 43, 46, 31, 44],\n",
       "         [ 5, 48, 17, 27, 44, 62, 17, 50],\n",
       "         [44, 46, 17, 36, 48,  5,  3, 21]]))"
      ]
     },
     "execution_count": 37,
     "metadata": {},
     "output_type": "execute_result"
    }
   ],
   "source": [
    "data_loader(training_data,batch_size=4,context_len=8)"
   ]
  },
  {
   "cell_type": "code",
   "execution_count": null,
   "metadata": {},
   "outputs": [],
   "source": []
  }
 ],
 "metadata": {
  "kernelspec": {
   "display_name": "torch",
   "language": "python",
   "name": "python3"
  },
  "language_info": {
   "codemirror_mode": {
    "name": "ipython",
    "version": 3
   },
   "file_extension": ".py",
   "mimetype": "text/x-python",
   "name": "python",
   "nbconvert_exporter": "python",
   "pygments_lexer": "ipython3",
   "version": "3.11.11"
  }
 },
 "nbformat": 4,
 "nbformat_minor": 2
}
